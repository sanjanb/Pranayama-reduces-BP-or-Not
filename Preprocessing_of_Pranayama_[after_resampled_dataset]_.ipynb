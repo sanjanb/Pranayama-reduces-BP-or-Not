{
  "nbformat": 4,
  "nbformat_minor": 0,
  "metadata": {
    "colab": {
      "provenance": [],
      "authorship_tag": "ABX9TyOZaAGZP3Tv5WaLZz1N0Pha",
      "include_colab_link": true
    },
    "kernelspec": {
      "name": "python3",
      "display_name": "Python 3"
    },
    "language_info": {
      "name": "python"
    }
  },
  "cells": [
    {
      "cell_type": "markdown",
      "metadata": {
        "id": "view-in-github",
        "colab_type": "text"
      },
      "source": [
        "<a href=\"https://colab.research.google.com/github/sanjanb/Pranayama-reduces-BP-or-Not/blob/main/Preprocessing_of_Pranayama_%5Bafter_resampled_dataset%5D_.ipynb\" target=\"_parent\"><img src=\"https://colab.research.google.com/assets/colab-badge.svg\" alt=\"Open In Colab\"/></a>"
      ]
    },
    {
      "cell_type": "markdown",
      "source": [
        "## **Importing Two datasets**"
      ],
      "metadata": {
        "id": "VC33kmWgwX9F"
      }
    },
    {
      "cell_type": "code",
      "execution_count": null,
      "metadata": {
        "id": "rz3hWlOSDyzl"
      },
      "outputs": [],
      "source": [
        "import pandas as pd\n",
        "\n",
        "# Load Lancet dataset\n",
        "df_lancet = pd.read_csv('/content/NCD_RisC_Lancet_2017_BP_age_standardised_world.csv')\n",
        "\n",
        "# Calculate mean BP for Men and Women\n",
        "lancet_men = df_lancet[df_lancet['Sex'] == 'Men'].mean(numeric_only=True)\n",
        "lancet_women = df_lancet[df_lancet['Sex'] == 'Women'].mean(numeric_only=True)\n",
        "\n",
        "# Create aggregated Lancet dataframe\n",
        "df_lancet_agg = pd.DataFrame({\n",
        "    'Sex': ['Men', 'Women'],\n",
        "    'Systolic BP': [lancet_men['Mean systolic blood pressure (mmHg)'], lancet_women['Mean systolic blood pressure (mmHg)']],\n",
        "    'Diastolic BP': [lancet_men['Mean diastolic blood pressure (mmHg)'], lancet_women['Mean diastolic blood pressure (mmHg)']],\n",
        "    'Pranayama': [0, 0]\n",
        "})"
      ]
    },
    {
      "cell_type": "markdown",
      "source": [
        "## **Combining Them**"
      ],
      "metadata": {
        "id": "EwHSJGrywdxs"
      }
    },
    {
      "cell_type": "code",
      "source": [
        "# Load Pranayama dataset\n",
        "df_pranayama = pd.read_excel('/content/Pranayama_Datset.xlsx', sheet_name='Sheet1')\n",
        "\n",
        "def split_bp(bp_str):\n",
        "    \"\"\"Split BP string (e.g., '120/80') into systolic and diastolic values.\"\"\"\n",
        "    try:\n",
        "        return list(map(int, bp_str.split('/')))\n",
        "    except:\n",
        "        return None, None\n",
        "\n",
        "# Extract post-pranayama BP values\n",
        "df_pranayama['After_Systolic'] = None\n",
        "df_pranayama['After_Diastolic'] = None\n",
        "\n",
        "for day in ['D1', 'D2', 'D3']:\n",
        "    col = f'{day} After Pranayama BP Measurment'\n",
        "    systolic = []\n",
        "    diastolic = []\n",
        "    for idx, row in df_pranayama.iterrows():\n",
        "        if pd.notna(row[col]):\n",
        "            sys, dia = split_bp(row[col])\n",
        "            systolic.append(sys)\n",
        "            diastolic.append(dia)\n",
        "        else:\n",
        "            systolic.append(None)\n",
        "            diastolic.append(None)\n",
        "    df_pranayama[f'{day}_sys'] = systolic\n",
        "    df_pranayama[f'{day}_dia'] = diastolic\n",
        "\n",
        "# Calculate average post-pranayama BP\n",
        "df_pranayama['Systolic BP'] = df_pranayama[['D1_sys', 'D2_sys', 'D3_sys']].mean(axis=1, skipna=True)\n",
        "df_pranayama['Diastolic BP'] = df_pranayama[['D1_dia', 'D2_dia', 'D3_dia']].mean(axis=1, skipna=True)\n",
        "\n",
        "# Clean and format\n",
        "df_pranayama = df_pranayama[['Gender', 'Systolic BP', 'Diastolic BP']].dropna()\n",
        "df_pranayama['Sex'] = df_pranayama['Gender'].replace({'M': 'Men', 'F': 'Women'})\n",
        "df_pranayama['Pranayama'] = 1\n",
        "df_pranayama = df_pranayama[['Sex', 'Systolic BP', 'Diastolic BP', 'Pranayama']]"
      ],
      "metadata": {
        "id": "ZTqQFeAjLsZb"
      },
      "execution_count": null,
      "outputs": []
    },
    {
      "cell_type": "code",
      "source": [
        "df_combined = pd.concat([df_lancet_agg, df_pranayama], ignore_index=True)\n",
        "df_combined"
      ],
      "metadata": {
        "colab": {
          "base_uri": "https://localhost:8080/",
          "height": 423
        },
        "id": "13cTES6HL4Cn",
        "outputId": "a930fce1-018e-4450-dd0b-32e6eb49f0bb"
      },
      "execution_count": null,
      "outputs": [
        {
          "output_type": "execute_result",
          "data": {
            "text/plain": [
              "      Sex  Systolic BP  Diastolic BP  Pranayama\n",
              "0     Men    126.40257     78.688567          0\n",
              "1   Women    122.89571     76.855848          0\n",
              "2   Women    118.00000     77.000000          1\n",
              "3     Men    161.50000     77.500000          1\n",
              "4     Men    126.00000     73.000000          1\n",
              "..    ...          ...           ...        ...\n",
              "61    Men    139.00000     76.000000          1\n",
              "62    Men    110.50000     67.000000          1\n",
              "63  Women    112.00000     69.000000          1\n",
              "64    Men    135.00000     80.000000          1\n",
              "65  Women    132.00000     76.000000          1\n",
              "\n",
              "[66 rows x 4 columns]"
            ],
            "text/html": [
              "\n",
              "  <div id=\"df-decca199-abe8-4c1a-9745-444c0a12a490\" class=\"colab-df-container\">\n",
              "    <div>\n",
              "<style scoped>\n",
              "    .dataframe tbody tr th:only-of-type {\n",
              "        vertical-align: middle;\n",
              "    }\n",
              "\n",
              "    .dataframe tbody tr th {\n",
              "        vertical-align: top;\n",
              "    }\n",
              "\n",
              "    .dataframe thead th {\n",
              "        text-align: right;\n",
              "    }\n",
              "</style>\n",
              "<table border=\"1\" class=\"dataframe\">\n",
              "  <thead>\n",
              "    <tr style=\"text-align: right;\">\n",
              "      <th></th>\n",
              "      <th>Sex</th>\n",
              "      <th>Systolic BP</th>\n",
              "      <th>Diastolic BP</th>\n",
              "      <th>Pranayama</th>\n",
              "    </tr>\n",
              "  </thead>\n",
              "  <tbody>\n",
              "    <tr>\n",
              "      <th>0</th>\n",
              "      <td>Men</td>\n",
              "      <td>126.40257</td>\n",
              "      <td>78.688567</td>\n",
              "      <td>0</td>\n",
              "    </tr>\n",
              "    <tr>\n",
              "      <th>1</th>\n",
              "      <td>Women</td>\n",
              "      <td>122.89571</td>\n",
              "      <td>76.855848</td>\n",
              "      <td>0</td>\n",
              "    </tr>\n",
              "    <tr>\n",
              "      <th>2</th>\n",
              "      <td>Women</td>\n",
              "      <td>118.00000</td>\n",
              "      <td>77.000000</td>\n",
              "      <td>1</td>\n",
              "    </tr>\n",
              "    <tr>\n",
              "      <th>3</th>\n",
              "      <td>Men</td>\n",
              "      <td>161.50000</td>\n",
              "      <td>77.500000</td>\n",
              "      <td>1</td>\n",
              "    </tr>\n",
              "    <tr>\n",
              "      <th>4</th>\n",
              "      <td>Men</td>\n",
              "      <td>126.00000</td>\n",
              "      <td>73.000000</td>\n",
              "      <td>1</td>\n",
              "    </tr>\n",
              "    <tr>\n",
              "      <th>...</th>\n",
              "      <td>...</td>\n",
              "      <td>...</td>\n",
              "      <td>...</td>\n",
              "      <td>...</td>\n",
              "    </tr>\n",
              "    <tr>\n",
              "      <th>61</th>\n",
              "      <td>Men</td>\n",
              "      <td>139.00000</td>\n",
              "      <td>76.000000</td>\n",
              "      <td>1</td>\n",
              "    </tr>\n",
              "    <tr>\n",
              "      <th>62</th>\n",
              "      <td>Men</td>\n",
              "      <td>110.50000</td>\n",
              "      <td>67.000000</td>\n",
              "      <td>1</td>\n",
              "    </tr>\n",
              "    <tr>\n",
              "      <th>63</th>\n",
              "      <td>Women</td>\n",
              "      <td>112.00000</td>\n",
              "      <td>69.000000</td>\n",
              "      <td>1</td>\n",
              "    </tr>\n",
              "    <tr>\n",
              "      <th>64</th>\n",
              "      <td>Men</td>\n",
              "      <td>135.00000</td>\n",
              "      <td>80.000000</td>\n",
              "      <td>1</td>\n",
              "    </tr>\n",
              "    <tr>\n",
              "      <th>65</th>\n",
              "      <td>Women</td>\n",
              "      <td>132.00000</td>\n",
              "      <td>76.000000</td>\n",
              "      <td>1</td>\n",
              "    </tr>\n",
              "  </tbody>\n",
              "</table>\n",
              "<p>66 rows × 4 columns</p>\n",
              "</div>\n",
              "    <div class=\"colab-df-buttons\">\n",
              "\n",
              "  <div class=\"colab-df-container\">\n",
              "    <button class=\"colab-df-convert\" onclick=\"convertToInteractive('df-decca199-abe8-4c1a-9745-444c0a12a490')\"\n",
              "            title=\"Convert this dataframe to an interactive table.\"\n",
              "            style=\"display:none;\">\n",
              "\n",
              "  <svg xmlns=\"http://www.w3.org/2000/svg\" height=\"24px\" viewBox=\"0 -960 960 960\">\n",
              "    <path d=\"M120-120v-720h720v720H120Zm60-500h600v-160H180v160Zm220 220h160v-160H400v160Zm0 220h160v-160H400v160ZM180-400h160v-160H180v160Zm440 0h160v-160H620v160ZM180-180h160v-160H180v160Zm440 0h160v-160H620v160Z\"/>\n",
              "  </svg>\n",
              "    </button>\n",
              "\n",
              "  <style>\n",
              "    .colab-df-container {\n",
              "      display:flex;\n",
              "      gap: 12px;\n",
              "    }\n",
              "\n",
              "    .colab-df-convert {\n",
              "      background-color: #E8F0FE;\n",
              "      border: none;\n",
              "      border-radius: 50%;\n",
              "      cursor: pointer;\n",
              "      display: none;\n",
              "      fill: #1967D2;\n",
              "      height: 32px;\n",
              "      padding: 0 0 0 0;\n",
              "      width: 32px;\n",
              "    }\n",
              "\n",
              "    .colab-df-convert:hover {\n",
              "      background-color: #E2EBFA;\n",
              "      box-shadow: 0px 1px 2px rgba(60, 64, 67, 0.3), 0px 1px 3px 1px rgba(60, 64, 67, 0.15);\n",
              "      fill: #174EA6;\n",
              "    }\n",
              "\n",
              "    .colab-df-buttons div {\n",
              "      margin-bottom: 4px;\n",
              "    }\n",
              "\n",
              "    [theme=dark] .colab-df-convert {\n",
              "      background-color: #3B4455;\n",
              "      fill: #D2E3FC;\n",
              "    }\n",
              "\n",
              "    [theme=dark] .colab-df-convert:hover {\n",
              "      background-color: #434B5C;\n",
              "      box-shadow: 0px 1px 3px 1px rgba(0, 0, 0, 0.15);\n",
              "      filter: drop-shadow(0px 1px 2px rgba(0, 0, 0, 0.3));\n",
              "      fill: #FFFFFF;\n",
              "    }\n",
              "  </style>\n",
              "\n",
              "    <script>\n",
              "      const buttonEl =\n",
              "        document.querySelector('#df-decca199-abe8-4c1a-9745-444c0a12a490 button.colab-df-convert');\n",
              "      buttonEl.style.display =\n",
              "        google.colab.kernel.accessAllowed ? 'block' : 'none';\n",
              "\n",
              "      async function convertToInteractive(key) {\n",
              "        const element = document.querySelector('#df-decca199-abe8-4c1a-9745-444c0a12a490');\n",
              "        const dataTable =\n",
              "          await google.colab.kernel.invokeFunction('convertToInteractive',\n",
              "                                                    [key], {});\n",
              "        if (!dataTable) return;\n",
              "\n",
              "        const docLinkHtml = 'Like what you see? Visit the ' +\n",
              "          '<a target=\"_blank\" href=https://colab.research.google.com/notebooks/data_table.ipynb>data table notebook</a>'\n",
              "          + ' to learn more about interactive tables.';\n",
              "        element.innerHTML = '';\n",
              "        dataTable['output_type'] = 'display_data';\n",
              "        await google.colab.output.renderOutput(dataTable, element);\n",
              "        const docLink = document.createElement('div');\n",
              "        docLink.innerHTML = docLinkHtml;\n",
              "        element.appendChild(docLink);\n",
              "      }\n",
              "    </script>\n",
              "  </div>\n",
              "\n",
              "\n",
              "    <div id=\"df-7e89c580-a78c-4740-880a-c22b4068178c\">\n",
              "      <button class=\"colab-df-quickchart\" onclick=\"quickchart('df-7e89c580-a78c-4740-880a-c22b4068178c')\"\n",
              "                title=\"Suggest charts\"\n",
              "                style=\"display:none;\">\n",
              "\n",
              "<svg xmlns=\"http://www.w3.org/2000/svg\" height=\"24px\"viewBox=\"0 0 24 24\"\n",
              "     width=\"24px\">\n",
              "    <g>\n",
              "        <path d=\"M19 3H5c-1.1 0-2 .9-2 2v14c0 1.1.9 2 2 2h14c1.1 0 2-.9 2-2V5c0-1.1-.9-2-2-2zM9 17H7v-7h2v7zm4 0h-2V7h2v10zm4 0h-2v-4h2v4z\"/>\n",
              "    </g>\n",
              "</svg>\n",
              "      </button>\n",
              "\n",
              "<style>\n",
              "  .colab-df-quickchart {\n",
              "      --bg-color: #E8F0FE;\n",
              "      --fill-color: #1967D2;\n",
              "      --hover-bg-color: #E2EBFA;\n",
              "      --hover-fill-color: #174EA6;\n",
              "      --disabled-fill-color: #AAA;\n",
              "      --disabled-bg-color: #DDD;\n",
              "  }\n",
              "\n",
              "  [theme=dark] .colab-df-quickchart {\n",
              "      --bg-color: #3B4455;\n",
              "      --fill-color: #D2E3FC;\n",
              "      --hover-bg-color: #434B5C;\n",
              "      --hover-fill-color: #FFFFFF;\n",
              "      --disabled-bg-color: #3B4455;\n",
              "      --disabled-fill-color: #666;\n",
              "  }\n",
              "\n",
              "  .colab-df-quickchart {\n",
              "    background-color: var(--bg-color);\n",
              "    border: none;\n",
              "    border-radius: 50%;\n",
              "    cursor: pointer;\n",
              "    display: none;\n",
              "    fill: var(--fill-color);\n",
              "    height: 32px;\n",
              "    padding: 0;\n",
              "    width: 32px;\n",
              "  }\n",
              "\n",
              "  .colab-df-quickchart:hover {\n",
              "    background-color: var(--hover-bg-color);\n",
              "    box-shadow: 0 1px 2px rgba(60, 64, 67, 0.3), 0 1px 3px 1px rgba(60, 64, 67, 0.15);\n",
              "    fill: var(--button-hover-fill-color);\n",
              "  }\n",
              "\n",
              "  .colab-df-quickchart-complete:disabled,\n",
              "  .colab-df-quickchart-complete:disabled:hover {\n",
              "    background-color: var(--disabled-bg-color);\n",
              "    fill: var(--disabled-fill-color);\n",
              "    box-shadow: none;\n",
              "  }\n",
              "\n",
              "  .colab-df-spinner {\n",
              "    border: 2px solid var(--fill-color);\n",
              "    border-color: transparent;\n",
              "    border-bottom-color: var(--fill-color);\n",
              "    animation:\n",
              "      spin 1s steps(1) infinite;\n",
              "  }\n",
              "\n",
              "  @keyframes spin {\n",
              "    0% {\n",
              "      border-color: transparent;\n",
              "      border-bottom-color: var(--fill-color);\n",
              "      border-left-color: var(--fill-color);\n",
              "    }\n",
              "    20% {\n",
              "      border-color: transparent;\n",
              "      border-left-color: var(--fill-color);\n",
              "      border-top-color: var(--fill-color);\n",
              "    }\n",
              "    30% {\n",
              "      border-color: transparent;\n",
              "      border-left-color: var(--fill-color);\n",
              "      border-top-color: var(--fill-color);\n",
              "      border-right-color: var(--fill-color);\n",
              "    }\n",
              "    40% {\n",
              "      border-color: transparent;\n",
              "      border-right-color: var(--fill-color);\n",
              "      border-top-color: var(--fill-color);\n",
              "    }\n",
              "    60% {\n",
              "      border-color: transparent;\n",
              "      border-right-color: var(--fill-color);\n",
              "    }\n",
              "    80% {\n",
              "      border-color: transparent;\n",
              "      border-right-color: var(--fill-color);\n",
              "      border-bottom-color: var(--fill-color);\n",
              "    }\n",
              "    90% {\n",
              "      border-color: transparent;\n",
              "      border-bottom-color: var(--fill-color);\n",
              "    }\n",
              "  }\n",
              "</style>\n",
              "\n",
              "      <script>\n",
              "        async function quickchart(key) {\n",
              "          const quickchartButtonEl =\n",
              "            document.querySelector('#' + key + ' button');\n",
              "          quickchartButtonEl.disabled = true;  // To prevent multiple clicks.\n",
              "          quickchartButtonEl.classList.add('colab-df-spinner');\n",
              "          try {\n",
              "            const charts = await google.colab.kernel.invokeFunction(\n",
              "                'suggestCharts', [key], {});\n",
              "          } catch (error) {\n",
              "            console.error('Error during call to suggestCharts:', error);\n",
              "          }\n",
              "          quickchartButtonEl.classList.remove('colab-df-spinner');\n",
              "          quickchartButtonEl.classList.add('colab-df-quickchart-complete');\n",
              "        }\n",
              "        (() => {\n",
              "          let quickchartButtonEl =\n",
              "            document.querySelector('#df-7e89c580-a78c-4740-880a-c22b4068178c button');\n",
              "          quickchartButtonEl.style.display =\n",
              "            google.colab.kernel.accessAllowed ? 'block' : 'none';\n",
              "        })();\n",
              "      </script>\n",
              "    </div>\n",
              "\n",
              "  <div id=\"id_fdd79dea-fd50-4ace-b029-aa497b2260f6\">\n",
              "    <style>\n",
              "      .colab-df-generate {\n",
              "        background-color: #E8F0FE;\n",
              "        border: none;\n",
              "        border-radius: 50%;\n",
              "        cursor: pointer;\n",
              "        display: none;\n",
              "        fill: #1967D2;\n",
              "        height: 32px;\n",
              "        padding: 0 0 0 0;\n",
              "        width: 32px;\n",
              "      }\n",
              "\n",
              "      .colab-df-generate:hover {\n",
              "        background-color: #E2EBFA;\n",
              "        box-shadow: 0px 1px 2px rgba(60, 64, 67, 0.3), 0px 1px 3px 1px rgba(60, 64, 67, 0.15);\n",
              "        fill: #174EA6;\n",
              "      }\n",
              "\n",
              "      [theme=dark] .colab-df-generate {\n",
              "        background-color: #3B4455;\n",
              "        fill: #D2E3FC;\n",
              "      }\n",
              "\n",
              "      [theme=dark] .colab-df-generate:hover {\n",
              "        background-color: #434B5C;\n",
              "        box-shadow: 0px 1px 3px 1px rgba(0, 0, 0, 0.15);\n",
              "        filter: drop-shadow(0px 1px 2px rgba(0, 0, 0, 0.3));\n",
              "        fill: #FFFFFF;\n",
              "      }\n",
              "    </style>\n",
              "    <button class=\"colab-df-generate\" onclick=\"generateWithVariable('df_combined')\"\n",
              "            title=\"Generate code using this dataframe.\"\n",
              "            style=\"display:none;\">\n",
              "\n",
              "  <svg xmlns=\"http://www.w3.org/2000/svg\" height=\"24px\"viewBox=\"0 0 24 24\"\n",
              "       width=\"24px\">\n",
              "    <path d=\"M7,19H8.4L18.45,9,17,7.55,7,17.6ZM5,21V16.75L18.45,3.32a2,2,0,0,1,2.83,0l1.4,1.43a1.91,1.91,0,0,1,.58,1.4,1.91,1.91,0,0,1-.58,1.4L9.25,21ZM18.45,9,17,7.55Zm-12,3A5.31,5.31,0,0,0,4.9,8.1,5.31,5.31,0,0,0,1,6.5,5.31,5.31,0,0,0,4.9,4.9,5.31,5.31,0,0,0,6.5,1,5.31,5.31,0,0,0,8.1,4.9,5.31,5.31,0,0,0,12,6.5,5.46,5.46,0,0,0,6.5,12Z\"/>\n",
              "  </svg>\n",
              "    </button>\n",
              "    <script>\n",
              "      (() => {\n",
              "      const buttonEl =\n",
              "        document.querySelector('#id_fdd79dea-fd50-4ace-b029-aa497b2260f6 button.colab-df-generate');\n",
              "      buttonEl.style.display =\n",
              "        google.colab.kernel.accessAllowed ? 'block' : 'none';\n",
              "\n",
              "      buttonEl.onclick = () => {\n",
              "        google.colab.notebook.generateWithVariable('df_combined');\n",
              "      }\n",
              "      })();\n",
              "    </script>\n",
              "  </div>\n",
              "\n",
              "    </div>\n",
              "  </div>\n"
            ],
            "application/vnd.google.colaboratory.intrinsic+json": {
              "type": "dataframe",
              "variable_name": "df_combined",
              "summary": "{\n  \"name\": \"df_combined\",\n  \"rows\": 66,\n  \"fields\": [\n    {\n      \"column\": \"Sex\",\n      \"properties\": {\n        \"dtype\": \"category\",\n        \"num_unique_values\": 3,\n        \"samples\": [\n          \"Men\",\n          \"Women\",\n          \"M \"\n        ],\n        \"semantic_type\": \"\",\n        \"description\": \"\"\n      }\n    },\n    {\n      \"column\": \"Systolic BP\",\n      \"properties\": {\n        \"dtype\": \"number\",\n        \"std\": 14.018153454645109,\n        \"min\": 99.0,\n        \"max\": 180.0,\n        \"num_unique_values\": 43,\n        \"samples\": [\n          125.0,\n          109.5,\n          127.0\n        ],\n        \"semantic_type\": \"\",\n        \"description\": \"\"\n      }\n    },\n    {\n      \"column\": \"Diastolic BP\",\n      \"properties\": {\n        \"dtype\": \"number\",\n        \"std\": 7.486227086533776,\n        \"min\": 60.333333333333336,\n        \"max\": 97.0,\n        \"num_unique_values\": 40,\n        \"samples\": [\n          76.0,\n          90.0,\n          69.66666666666667\n        ],\n        \"semantic_type\": \"\",\n        \"description\": \"\"\n      }\n    },\n    {\n      \"column\": \"Pranayama\",\n      \"properties\": {\n        \"dtype\": \"number\",\n        \"std\": 0,\n        \"min\": 0,\n        \"max\": 1,\n        \"num_unique_values\": 2,\n        \"samples\": [\n          1,\n          0\n        ],\n        \"semantic_type\": \"\",\n        \"description\": \"\"\n      }\n    }\n  ]\n}"
            }
          },
          "metadata": {},
          "execution_count": 6
        }
      ]
    },
    {
      "cell_type": "markdown",
      "source": [
        "## **Statistical Analysis**"
      ],
      "metadata": {
        "id": "HB6cwSDewig0"
      }
    },
    {
      "cell_type": "code",
      "source": [
        "from scipy.stats import ttest_ind\n",
        "\n",
        "# Split groups\n",
        "group0 = df_combined[df_combined['Pranayama'] == 0]\n",
        "group1 = df_combined[df_combined['Pranayama'] == 1]\n",
        "\n",
        "# T-test for Systolic BP\n",
        "t_stat_systolic, p_systolic = ttest_ind(group0['Systolic BP'], group1['Systolic BP'])\n",
        "print(f\"Systolic BP: t-statistic={t_stat_systolic}, p-value={p_systolic}\")\n",
        "\n",
        "# T-test for Diastolic BP\n",
        "t_stat_diastolic, p_diastolic = ttest_ind(group0['Diastolic BP'], group1['Diastolic BP'])\n",
        "print(f\"Diastolic BP: t-statistic={t_stat_diastolic}, p-value={p_diastolic}\")"
      ],
      "metadata": {
        "colab": {
          "base_uri": "https://localhost:8080/"
        },
        "id": "eXVyJ9uuL6pY",
        "outputId": "31bf3707-bac5-46d9-8563-3a9c82d9fff9"
      },
      "execution_count": null,
      "outputs": [
        {
          "output_type": "stream",
          "name": "stdout",
          "text": [
            "Systolic BP: t-statistic=-0.3295700874708399, p-value=0.7428010539294241\n",
            "Diastolic BP: t-statistic=0.228197172160611, p-value=0.8202204898147686\n"
          ]
        }
      ]
    },
    {
      "cell_type": "markdown",
      "source": [
        "## **BoxPlots Analysis**"
      ],
      "metadata": {
        "id": "NQu9Ne1dwnHT"
      }
    },
    {
      "cell_type": "code",
      "source": [
        "import seaborn as sns\n",
        "import matplotlib.pyplot as plt\n",
        "\n",
        "# Boxplot for Systolic BP\n",
        "plt.figure(figsize=(10, 6))\n",
        "sns.boxplot(x='Pranayama', y='Systolic BP', data=df_combined)\n",
        "plt.title('Systolic BP: Pranayama vs. Control')\n",
        "plt.xticks([0, 1], ['No Pranayama', 'Pranayama'])\n",
        "plt.show()\n",
        "\n",
        "# Boxplot for Diastolic BP\n",
        "plt.figure(figsize=(10, 6))\n",
        "sns.boxplot(x='Pranayama', y='Diastolic BP', data=df_combined)\n",
        "plt.title('Diastolic BP: Pranayama vs. Control')\n",
        "plt.xticks([0, 1], ['No Pranayama', 'Pranayama'])\n",
        "plt.show()"
      ],
      "metadata": {
        "colab": {
          "base_uri": "https://localhost:8080/",
          "height": 883
        },
        "id": "SQTaAuwhL-ua",
        "outputId": "c2dc3b8b-963a-4af8-cad5-b97a1bcfd247"
      },
      "execution_count": null,
      "outputs": [
        {
          "output_type": "display_data",
          "data": {
            "text/plain": [
              "<Figure size 1000x600 with 1 Axes>"
            ],
            "image/png": "[encoded data removed]"
          },
          "metadata": {}
        },
        {
          "output_type": "display_data",
          "data": {
            "text/plain": [
              "<Figure size 1000x600 with 1 Axes>"
            ],
            "image/png": "[encoded data removed]"
          },
          "metadata": {}
        }
      ]
    },
    {
      "cell_type": "markdown",
      "source": [
        "## **Apllying SMOTE to increase the number of data**"
      ],
      "metadata": {
        "id": "JPp9f39n50eu"
      }
    },
    {
      "cell_type": "code",
      "source": [
        "pip install imbalanced-learn"
      ],
      "metadata": {
        "colab": {
          "base_uri": "https://localhost:8080/"
        },
        "id": "JUXihFmg55gM",
        "outputId": "54f52e20-c97b-437d-b481-3022ccb61f6c"
      },
      "execution_count": null,
      "outputs": [
        {
          "output_type": "stream",
          "name": "stdout",
          "text": [
            "Requirement already satisfied: imbalanced-learn in /usr/local/lib/python3.11/dist-packages (0.13.0)\n",
            "Requirement already satisfied: numpy<3,>=1.24.3 in /usr/local/lib/python3.11/dist-packages (from imbalanced-learn) (2.0.2)\n",
            "Requirement already satisfied: scipy<2,>=1.10.1 in /usr/local/lib/python3.11/dist-packages (from imbalanced-learn) (1.15.3)\n",
            "Requirement already satisfied: scikit-learn<2,>=1.3.2 in /usr/local/lib/python3.11/dist-packages (from imbalanced-learn) (1.6.1)\n",
            "Requirement already satisfied: sklearn-compat<1,>=0.1 in /usr/local/lib/python3.11/dist-packages (from imbalanced-learn) (0.1.3)\n",
            "Requirement already satisfied: joblib<2,>=1.1.1 in /usr/local/lib/python3.11/dist-packages (from imbalanced-learn) (1.5.0)\n",
            "Requirement already satisfied: threadpoolctl<4,>=2.0.0 in /usr/local/lib/python3.11/dist-packages (from imbalanced-learn) (3.6.0)\n"
          ]
        }
      ]
    },
    {
      "cell_type": "code",
      "source": [
        "from imblearn.over_sampling import SMOTE\n",
        "import pandas as pd\n",
        "\n",
        "# Separate features and target variable\n",
        "X = df_combined[['Systolic BP', 'Diastolic BP']] # Corrected column names\n",
        "y = df_combined['Pranayama']\n",
        "\n",
        "# Apply SMOTE to generate synthetic samples\n",
        "smote = SMOTE(random_state=42, sampling_strategy=0.5, k_neighbors=1)\n",
        "X_res, y_res = smote.fit_resample(X, y)\n",
        "\n",
        "# Combine the resampled features and target variable into a new DataFrame\n",
        "resampled_df = pd.DataFrame(X_res, columns=['Systolic BP', 'Diastolic BP']) # Corrected column names\n",
        "resampled_df['Pranayama'] = y_res\n",
        "\n",
        "# Display the first few rows of the resampled dataset\n",
        "print(resampled_df.head())\n",
        "print(resampled_df.shape)"
      ],
      "metadata": {
        "colab": {
          "base_uri": "https://localhost:8080/"
        },
        "id": "b1M68i9256yY",
        "outputId": "550e5c77-01d0-49de-9f08-ce4f59527d64"
      },
      "execution_count": null,
      "outputs": [
        {
          "output_type": "stream",
          "name": "stdout",
          "text": [
            "   Systolic BP  Diastolic BP  Pranayama\n",
            "0    126.40257     78.688567          0\n",
            "1    122.89571     76.855848          0\n",
            "2    118.00000     77.000000          1\n",
            "3    161.50000     77.500000          1\n",
            "4    126.00000     73.000000          1\n",
            "(96, 3)\n"
          ]
        }
      ]
    },
    {
      "cell_type": "code",
      "source": [
        "\n",
        "from imblearn.over_sampling import SMOTE\n",
        "import pandas as pd\n",
        "\n",
        "# Separate features and target variable\n",
        "X = df_combined[['Systolic BP', 'Diastolic BP']]\n",
        "y = df_combined['Pranayama']\n",
        "\n",
        "\n",
        "smote = SMOTE(random_state=42, sampling_strategy=1.0, k_neighbors=1) # Changed sampling_strategy\n",
        "X_res, y_res = smote.fit_resample(X, y)\n",
        "\n",
        "# Combine the resampled features and target variable into a new DataFrame\n",
        "resampled_df = pd.DataFrame(X_res, columns=['Systolic BP', 'Diastolic BP'])\n",
        "resampled_df['Pranayama'] = y_res\n",
        "\n",
        "# Display the first few rows of the resampled dataset\n",
        "print(resampled_df.head())\n",
        "print(resampled_df.shape) # This should now show (128, 3) if sampling_strategy=1.0"
      ],
      "metadata": {
        "colab": {
          "base_uri": "https://localhost:8080/"
        },
        "id": "DtZZTz657urh",
        "outputId": "a32b27cc-89e2-441f-887d-9ed8217781f1"
      },
      "execution_count": null,
      "outputs": [
        {
          "output_type": "stream",
          "name": "stdout",
          "text": [
            "   Systolic BP  Diastolic BP  Pranayama\n",
            "0    126.40257     78.688567          0\n",
            "1    122.89571     76.855848          0\n",
            "2    118.00000     77.000000          1\n",
            "3    161.50000     77.500000          1\n",
            "4    126.00000     73.000000          1\n",
            "(128, 3)\n"
          ]
        }
      ]
    },
    {
      "cell_type": "code",
      "source": [
        "from imblearn.over_sampling import SMOTE\n",
        "import pandas as pd\n",
        "\n",
        "# Separate features and target variable\n",
        "X = df_combined[['Systolic BP', 'Diastolic BP']]\n",
        "y = df_combined['Pranayama']\n",
        "\n",
        "\n",
        "target_samples = {0: 200, 1: 64}\n",
        "\n",
        "smote = SMOTE(random_state=42, sampling_strategy=target_samples, k_neighbors=1)\n",
        "X_res, y_res = smote.fit_resample(X, y)\n",
        "\n",
        "# Combine the resampled features and target variable into a new DataFrame\n",
        "resampled_df = pd.DataFrame(X_res, columns=['Systolic BP', 'Diastolic BP'])\n",
        "resampled_df['Pranayama'] = y_res\n",
        "\n",
        "# Display the first few rows of the resampled dataset\n",
        "print(resampled_df.head())\n",
        "print(resampled_df.shape)"
      ],
      "metadata": {
        "colab": {
          "base_uri": "https://localhost:8080/"
        },
        "id": "mBcehOtZ77jh",
        "outputId": "fff1e7a2-331e-4fb8-c59f-2e7962e3f43c"
      },
      "execution_count": null,
      "outputs": [
        {
          "output_type": "stream",
          "name": "stdout",
          "text": [
            "   Systolic BP  Diastolic BP  Pranayama\n",
            "0    126.40257     78.688567          0\n",
            "1    122.89571     76.855848          0\n",
            "2    118.00000     77.000000          1\n",
            "3    161.50000     77.500000          1\n",
            "4    126.00000     73.000000          1\n",
            "(264, 3)\n"
          ]
        }
      ]
    },
    {
      "cell_type": "code",
      "source": [
        "df_pranayama['Sex'] = df_pranayama['Sex'].replace({'M': 'Men', 'F': 'Women'})\n",
        "\n",
        "# Group by 'Sex' and 'Pranayama' and count the number of entries\n",
        "sex_pranayama_counts = df_combined.groupby(['Sex', 'Pranayama']).size().reset_index(name='Count')\n",
        "\n",
        "# Display the counts\n",
        "print(sex_pranayama_counts)"
      ],
      "metadata": {
        "colab": {
          "base_uri": "https://localhost:8080/"
        },
        "id": "z62usAfq8kwQ",
        "outputId": "e49595a8-731a-48ad-d771-77649e7f3db2"
      },
      "execution_count": null,
      "outputs": [
        {
          "output_type": "stream",
          "name": "stdout",
          "text": [
            "     Sex  Pranayama  Count\n",
            "0     M           1      1\n",
            "1    Men          0      1\n",
            "2    Men          1     32\n",
            "3  Women          0      1\n",
            "4  Women          1     31\n"
          ]
        }
      ]
    },
    {
      "cell_type": "code",
      "source": [
        "# Save the resampled DataFrame to a CSV file\n",
        "resampled_df.to_csv('resampled_data.csv', index=False)\n",
        "\n",
        "print(\"Resampled data saved to 'resampled_data.csv'\")"
      ],
      "metadata": {
        "colab": {
          "base_uri": "https://localhost:8080/"
        },
        "id": "O50kaRJn9eMh",
        "outputId": "161763d4-82ee-4342-feb4-5edad4313a10"
      },
      "execution_count": null,
      "outputs": [
        {
          "output_type": "stream",
          "name": "stdout",
          "text": [
            "Resampled data saved to 'resampled_data.csv'\n"
          ]
        }
      ]
    },
    {
      "cell_type": "code",
      "source": [
        "# Check the value counts of the target variable in the resampled dataset\n",
        "print(resampled_df['Pranayama'].value_counts())"
      ],
      "metadata": {
        "colab": {
          "base_uri": "https://localhost:8080/"
        },
        "id": "R2P0nQX2-Ug3",
        "outputId": "542b591b-831c-4d02-ed82-fb4cd646e511"
      },
      "execution_count": null,
      "outputs": [
        {
          "output_type": "stream",
          "name": "stdout",
          "text": [
            "Pranayama\n",
            "0    200\n",
            "1     64\n",
            "Name: count, dtype: int64\n"
          ]
        }
      ]
    },
    {
      "cell_type": "code",
      "source": [
        "import seaborn as sns\n",
        "import matplotlib.pyplot as plt\n",
        "\n",
        "# Boxplot for Systolic BP with resampled data\n",
        "plt.figure(figsize=(10, 6))\n",
        "sns.boxplot(x='Pranayama', y='Systolic BP', data=resampled_df)\n",
        "plt.title('Systolic BP: Pranayama vs. Control (Resampled Data)')\n",
        "plt.xticks([0, 1], ['No Pranayama', 'Pranayama'])\n",
        "plt.show()\n",
        "\n",
        "# Boxplot for Diastolic BP with resampled data\n",
        "plt.figure(figsize=(10, 6))\n",
        "sns.boxplot(x='Pranayama', y='Diastolic BP', data=resampled_df)\n",
        "plt.title('Diastolic BP: Pranayama vs. Control (Resampled Data)')\n",
        "plt.xticks([0, 1], ['No Pranayama', 'Pranayama'])\n",
        "plt.show()"
      ],
      "metadata": {
        "colab": {
          "base_uri": "https://localhost:8080/",
          "height": 883
        },
        "id": "uHU7MvnpBCU3",
        "outputId": "fdbdd9dc-b43f-4ec0-dd84-6bacb70f9115"
      },
      "execution_count": null,
      "outputs": [
        {
          "output_type": "display_data",
          "data": {
            "text/plain": [
              "<Figure size 1000x600 with 1 Axes>"
            ],
            "image/png": "[encoded data removed]"
          },
          "metadata": {}
        },
        {
          "output_type": "display_data",
          "data": {
            "text/plain": [
              "<Figure size 1000x600 with 1 Axes>"
            ],
            "image/png": "[encoded data removed]"
          },
          "metadata": {}
        }
      ]
    },
    {
      "cell_type": "markdown",
      "source": [
        "## **Using newly Sampled data for the process**"
      ],
      "metadata": {
        "id": "33-yWFLGwxeM"
      }
    },
    {
      "source": [
        "# Task\n",
        "Import this data, do some EDA on it\n",
        "\n",
        "Here is all the data you need:\n",
        "\"resampled_data.csv\""
      ],
      "cell_type": "markdown",
      "metadata": {
        "id": "JRvX74ypxLt1"
      }
    },
    {
      "source": [
        "## Data loading\n",
        "\n",
        "### Subtask:\n",
        "Load the data from \"resampled_data.csv\" into a pandas DataFrame.\n"
      ],
      "cell_type": "markdown",
      "metadata": {
        "id": "RrmZSh_vxMbH"
      }
    },
    {
      "source": [
        "**Reasoning**:\n",
        "Load the data from \"resampled_data.csv\" into a pandas DataFrame and display the first 5 rows.\n",
        "\n"
      ],
      "cell_type": "markdown",
      "metadata": {
        "id": "noG5WxrcxMvl"
      }
    },
    {
      "source": [
        "import pandas as pd\n",
        "\n",
        "try:\n",
        "    df = pd.read_csv('resampled_data.csv')\n",
        "    display(df.head())\n",
        "except FileNotFoundError:\n",
        "    print(\"Error: 'resampled_data.csv' not found.\")\n",
        "    df = None\n",
        "except pd.errors.ParserError:\n",
        "    print(\"Error: Could not parse 'resampled_data.csv'. Check file format.\")\n",
        "    df = None\n",
        "except Exception as e:\n",
        "    print(f\"An unexpected error occurred: {e}\")\n",
        "    df = None"
      ],
      "cell_type": "code",
      "metadata": {
        "colab": {
          "base_uri": "https://localhost:8080/",
          "height": 206
        },
        "id": "qUf4-PhFxNOy",
        "outputId": "5b52b079-20b8-438b-bcf8-66579b710d15"
      },
      "execution_count": null,
      "outputs": [
        {
          "output_type": "display_data",
          "data": {
            "text/plain": [
              "   Systolic BP  Diastolic BP  Sex_Men  Sex_Women  Pranayama\n",
              "0   126.402570     78.688567     True      False          0\n",
              "1   122.895711     76.855848    False       True          0\n",
              "2   118.000000     77.000000    False       True          1\n",
              "3   161.500000     77.500000     True      False          1\n",
              "4   126.000000     73.000000     True      False          1"
            ],
            "text/html": [
              "\n",
              "  <div id=\"df-e5e3c340-9c41-47a7-9c50-2405bdb44cdf\" class=\"colab-df-container\">\n",
              "    <div>\n",
              "<style scoped>\n",
              "    .dataframe tbody tr th:only-of-type {\n",
              "        vertical-align: middle;\n",
              "    }\n",
              "\n",
              "    .dataframe tbody tr th {\n",
              "        vertical-align: top;\n",
              "    }\n",
              "\n",
              "    .dataframe thead th {\n",
              "        text-align: right;\n",
              "    }\n",
              "</style>\n",
              "<table border=\"1\" class=\"dataframe\">\n",
              "  <thead>\n",
              "    <tr style=\"text-align: right;\">\n",
              "      <th></th>\n",
              "      <th>Systolic BP</th>\n",
              "      <th>Diastolic BP</th>\n",
              "      <th>Sex_Men</th>\n",
              "      <th>Sex_Women</th>\n",
              "      <th>Pranayama</th>\n",
              "    </tr>\n",
              "  </thead>\n",
              "  <tbody>\n",
              "    <tr>\n",
              "      <th>0</th>\n",
              "      <td>126.402570</td>\n",
              "      <td>78.688567</td>\n",
              "      <td>True</td>\n",
              "      <td>False</td>\n",
              "      <td>0</td>\n",
              "    </tr>\n",
              "    <tr>\n",
              "      <th>1</th>\n",
              "      <td>122.895711</td>\n",
              "      <td>76.855848</td>\n",
              "      <td>False</td>\n",
              "      <td>True</td>\n",
              "      <td>0</td>\n",
              "    </tr>\n",
              "    <tr>\n",
              "      <th>2</th>\n",
              "      <td>118.000000</td>\n",
              "      <td>77.000000</td>\n",
              "      <td>False</td>\n",
              "      <td>True</td>\n",
              "      <td>1</td>\n",
              "    </tr>\n",
              "    <tr>\n",
              "      <th>3</th>\n",
              "      <td>161.500000</td>\n",
              "      <td>77.500000</td>\n",
              "      <td>True</td>\n",
              "      <td>False</td>\n",
              "      <td>1</td>\n",
              "    </tr>\n",
              "    <tr>\n",
              "      <th>4</th>\n",
              "      <td>126.000000</td>\n",
              "      <td>73.000000</td>\n",
              "      <td>True</td>\n",
              "      <td>False</td>\n",
              "      <td>1</td>\n",
              "    </tr>\n",
              "  </tbody>\n",
              "</table>\n",
              "</div>\n",
              "    <div class=\"colab-df-buttons\">\n",
              "\n",
              "  <div class=\"colab-df-container\">\n",
              "    <button class=\"colab-df-convert\" onclick=\"convertToInteractive('df-e5e3c340-9c41-47a7-9c50-2405bdb44cdf')\"\n",
              "            title=\"Convert this dataframe to an interactive table.\"\n",
              "            style=\"display:none;\">\n",
              "\n",
              "  <svg xmlns=\"http://www.w3.org/2000/svg\" height=\"24px\" viewBox=\"0 -960 960 960\">\n",
              "    <path d=\"M120-120v-720h720v720H120Zm60-500h600v-160H180v160Zm220 220h160v-160H400v160Zm0 220h160v-160H400v160ZM180-400h160v-160H180v160Zm440 0h160v-160H620v160ZM180-180h160v-160H180v160Zm440 0h160v-160H620v160Z\"/>\n",
              "  </svg>\n",
              "    </button>\n",
              "\n",
              "  <style>\n",
              "    .colab-df-container {\n",
              "      display:flex;\n",
              "      gap: 12px;\n",
              "    }\n",
              "\n",
              "    .colab-df-convert {\n",
              "      background-color: #E8F0FE;\n",
              "      border: none;\n",
              "      border-radius: 50%;\n",
              "      cursor: pointer;\n",
              "      display: none;\n",
              "      fill: #1967D2;\n",
              "      height: 32px;\n",
              "      padding: 0 0 0 0;\n",
              "      width: 32px;\n",
              "    }\n",
              "\n",
              "    .colab-df-convert:hover {\n",
              "      background-color: #E2EBFA;\n",
              "      box-shadow: 0px 1px 2px rgba(60, 64, 67, 0.3), 0px 1px 3px 1px rgba(60, 64, 67, 0.15);\n",
              "      fill: #174EA6;\n",
              "    }\n",
              "\n",
              "    .colab-df-buttons div {\n",
              "      margin-bottom: 4px;\n",
              "    }\n",
              "\n",
              "    [theme=dark] .colab-df-convert {\n",
              "      background-color: #3B4455;\n",
              "      fill: #D2E3FC;\n",
              "    }\n",
              "\n",
              "    [theme=dark] .colab-df-convert:hover {\n",
              "      background-color: #434B5C;\n",
              "      box-shadow: 0px 1px 3px 1px rgba(0, 0, 0, 0.15);\n",
              "      filter: drop-shadow(0px 1px 2px rgba(0, 0, 0, 0.3));\n",
              "      fill: #FFFFFF;\n",
              "    }\n",
              "  </style>\n",
              "\n",
              "    <script>\n",
              "      const buttonEl =\n",
              "        document.querySelector('#df-e5e3c340-9c41-47a7-9c50-2405bdb44cdf button.colab-df-convert');\n",
              "      buttonEl.style.display =\n",
              "        google.colab.kernel.accessAllowed ? 'block' : 'none';\n",
              "\n",
              "      async function convertToInteractive(key) {\n",
              "        const element = document.querySelector('#df-e5e3c340-9c41-47a7-9c50-2405bdb44cdf');\n",
              "        const dataTable =\n",
              "          await google.colab.kernel.invokeFunction('convertToInteractive',\n",
              "                                                    [key], {});\n",
              "        if (!dataTable) return;\n",
              "\n",
              "        const docLinkHtml = 'Like what you see? Visit the ' +\n",
              "          '<a target=\"_blank\" href=https://colab.research.google.com/notebooks/data_table.ipynb>data table notebook</a>'\n",
              "          + ' to learn more about interactive tables.';\n",
              "        element.innerHTML = '';\n",
              "        dataTable['output_type'] = 'display_data';\n",
              "        await google.colab.output.renderOutput(dataTable, element);\n",
              "        const docLink = document.createElement('div');\n",
              "        docLink.innerHTML = docLinkHtml;\n",
              "        element.appendChild(docLink);\n",
              "      }\n",
              "    </script>\n",
              "  </div>\n",
              "\n",
              "\n",
              "    <div id=\"df-7c0d3ad6-8b72-4ff9-b5fa-70da639ed7ee\">\n",
              "      <button class=\"colab-df-quickchart\" onclick=\"quickchart('df-7c0d3ad6-8b72-4ff9-b5fa-70da639ed7ee')\"\n",
              "                title=\"Suggest charts\"\n",
              "                style=\"display:none;\">\n",
              "\n",
              "<svg xmlns=\"http://www.w3.org/2000/svg\" height=\"24px\"viewBox=\"0 0 24 24\"\n",
              "     width=\"24px\">\n",
              "    <g>\n",
              "        <path d=\"M19 3H5c-1.1 0-2 .9-2 2v14c0 1.1.9 2 2 2h14c1.1 0 2-.9 2-2V5c0-1.1-.9-2-2-2zM9 17H7v-7h2v7zm4 0h-2V7h2v10zm4 0h-2v-4h2v4z\"/>\n",
              "    </g>\n",
              "</svg>\n",
              "      </button>\n",
              "\n",
              "<style>\n",
              "  .colab-df-quickchart {\n",
              "      --bg-color: #E8F0FE;\n",
              "      --fill-color: #1967D2;\n",
              "      --hover-bg-color: #E2EBFA;\n",
              "      --hover-fill-color: #174EA6;\n",
              "      --disabled-fill-color: #AAA;\n",
              "      --disabled-bg-color: #DDD;\n",
              "  }\n",
              "\n",
              "  [theme=dark] .colab-df-quickchart {\n",
              "      --bg-color: #3B4455;\n",
              "      --fill-color: #D2E3FC;\n",
              "      --hover-bg-color: #434B5C;\n",
              "      --hover-fill-color: #FFFFFF;\n",
              "      --disabled-bg-color: #3B4455;\n",
              "      --disabled-fill-color: #666;\n",
              "  }\n",
              "\n",
              "  .colab-df-quickchart {\n",
              "    background-color: var(--bg-color);\n",
              "    border: none;\n",
              "    border-radius: 50%;\n",
              "    cursor: pointer;\n",
              "    display: none;\n",
              "    fill: var(--fill-color);\n",
              "    height: 32px;\n",
              "    padding: 0;\n",
              "    width: 32px;\n",
              "  }\n",
              "\n",
              "  .colab-df-quickchart:hover {\n",
              "    background-color: var(--hover-bg-color);\n",
              "    box-shadow: 0 1px 2px rgba(60, 64, 67, 0.3), 0 1px 3px 1px rgba(60, 64, 67, 0.15);\n",
              "    fill: var(--button-hover-fill-color);\n",
              "  }\n",
              "\n",
              "  .colab-df-quickchart-complete:disabled,\n",
              "  .colab-df-quickchart-complete:disabled:hover {\n",
              "    background-color: var(--disabled-bg-color);\n",
              "    fill: var(--disabled-fill-color);\n",
              "    box-shadow: none;\n",
              "  }\n",
              "\n",
              "  .colab-df-spinner {\n",
              "    border: 2px solid var(--fill-color);\n",
              "    border-color: transparent;\n",
              "    border-bottom-color: var(--fill-color);\n",
              "    animation:\n",
              "      spin 1s steps(1) infinite;\n",
              "  }\n",
              "\n",
              "  @keyframes spin {\n",
              "    0% {\n",
              "      border-color: transparent;\n",
              "      border-bottom-color: var(--fill-color);\n",
              "      border-left-color: var(--fill-color);\n",
              "    }\n",
              "    20% {\n",
              "      border-color: transparent;\n",
              "      border-left-color: var(--fill-color);\n",
              "      border-top-color: var(--fill-color);\n",
              "    }\n",
              "    30% {\n",
              "      border-color: transparent;\n",
              "      border-left-color: var(--fill-color);\n",
              "      border-top-color: var(--fill-color);\n",
              "      border-right-color: var(--fill-color);\n",
              "    }\n",
              "    40% {\n",
              "      border-color: transparent;\n",
              "      border-right-color: var(--fill-color);\n",
              "      border-top-color: var(--fill-color);\n",
              "    }\n",
              "    60% {\n",
              "      border-color: transparent;\n",
              "      border-right-color: var(--fill-color);\n",
              "    }\n",
              "    80% {\n",
              "      border-color: transparent;\n",
              "      border-right-color: var(--fill-color);\n",
              "      border-bottom-color: var(--fill-color);\n",
              "    }\n",
              "    90% {\n",
              "      border-color: transparent;\n",
              "      border-bottom-color: var(--fill-color);\n",
              "    }\n",
              "  }\n",
              "</style>\n",
              "\n",
              "      <script>\n",
              "        async function quickchart(key) {\n",
              "          const quickchartButtonEl =\n",
              "            document.querySelector('#' + key + ' button');\n",
              "          quickchartButtonEl.disabled = true;  // To prevent multiple clicks.\n",
              "          quickchartButtonEl.classList.add('colab-df-spinner');\n",
              "          try {\n",
              "            const charts = await google.colab.kernel.invokeFunction(\n",
              "                'suggestCharts', [key], {});\n",
              "          } catch (error) {\n",
              "            console.error('Error during call to suggestCharts:', error);\n",
              "          }\n",
              "          quickchartButtonEl.classList.remove('colab-df-spinner');\n",
              "          quickchartButtonEl.classList.add('colab-df-quickchart-complete');\n",
              "        }\n",
              "        (() => {\n",
              "          let quickchartButtonEl =\n",
              "            document.querySelector('#df-7c0d3ad6-8b72-4ff9-b5fa-70da639ed7ee button');\n",
              "          quickchartButtonEl.style.display =\n",
              "            google.colab.kernel.accessAllowed ? 'block' : 'none';\n",
              "        })();\n",
              "      </script>\n",
              "    </div>\n",
              "\n",
              "    </div>\n",
              "  </div>\n"
            ],
            "application/vnd.google.colaboratory.intrinsic+json": {
              "type": "dataframe",
              "summary": "{\n  \"name\": \"    df = None\",\n  \"rows\": 5,\n  \"fields\": [\n    {\n      \"column\": \"Systolic BP\",\n      \"properties\": {\n        \"dtype\": \"number\",\n        \"std\": 17.400127370360845,\n        \"min\": 118.0,\n        \"max\": 161.5,\n        \"num_unique_values\": 5,\n        \"samples\": [\n          122.8957105,\n          126.0,\n          118.0\n        ],\n        \"semantic_type\": \"\",\n        \"description\": \"\"\n      }\n    },\n    {\n      \"column\": \"Diastolic BP\",\n      \"properties\": {\n        \"dtype\": \"number\",\n        \"std\": 2.1422637242072033,\n        \"min\": 73.0,\n        \"max\": 78.68856692,\n        \"num_unique_values\": 5,\n        \"samples\": [\n          76.85584803,\n          73.0,\n          77.0\n        ],\n        \"semantic_type\": \"\",\n        \"description\": \"\"\n      }\n    },\n    {\n      \"column\": \"Sex_Men\",\n      \"properties\": {\n        \"dtype\": \"boolean\",\n        \"num_unique_values\": 2,\n        \"samples\": [\n          false,\n          true\n        ],\n        \"semantic_type\": \"\",\n        \"description\": \"\"\n      }\n    },\n    {\n      \"column\": \"Sex_Women\",\n      \"properties\": {\n        \"dtype\": \"boolean\",\n        \"num_unique_values\": 2,\n        \"samples\": [\n          true,\n          false\n        ],\n        \"semantic_type\": \"\",\n        \"description\": \"\"\n      }\n    },\n    {\n      \"column\": \"Pranayama\",\n      \"properties\": {\n        \"dtype\": \"number\",\n        \"std\": 0,\n        \"min\": 0,\n        \"max\": 1,\n        \"num_unique_values\": 2,\n        \"samples\": [\n          1,\n          0\n        ],\n        \"semantic_type\": \"\",\n        \"description\": \"\"\n      }\n    }\n  ]\n}"
            }
          },
          "metadata": {}
        }
      ]
    },
    {
      "source": [
        "## Data exploration\n",
        "\n",
        "### Subtask:\n",
        "Explore the loaded data to understand its structure and characteristics.\n"
      ],
      "cell_type": "markdown",
      "metadata": {
        "id": "bkJrO1DPxRCT"
      }
    },
    {
      "source": [
        "**Reasoning**:\n",
        "Explore the data by checking its shape, data types, descriptive statistics, and value counts for categorical features.\n",
        "\n"
      ],
      "cell_type": "markdown",
      "metadata": {
        "id": "g8wc6KYLxRxU"
      }
    },
    {
      "source": [
        "# Check the shape of the DataFrame\n",
        "print(\"Shape of the DataFrame:\", df.shape)\n",
        "\n",
        "# Examine the data types of each column\n",
        "print(\"\\nData Types of each column:\\n\", df.dtypes)\n",
        "\n",
        "# Generate descriptive statistics for numerical features\n",
        "print(\"\\nDescriptive Statistics for Numerical Features:\\n\", df.describe())\n",
        "\n",
        "# Analyze categorical features\n",
        "print(\"\\nValue Counts for Categorical Features:\")\n",
        "for col in ['Sex_Men', 'Sex_Women']:\n",
        "    print(f\"\\nColumn: {col}\")\n",
        "    print(df[col].value_counts())"
      ],
      "cell_type": "code",
      "metadata": {
        "colab": {
          "base_uri": "https://localhost:8080/"
        },
        "id": "EnKmP-0-xSHh",
        "outputId": "5e12838d-427e-4374-cb11-9a90338c413b"
      },
      "execution_count": null,
      "outputs": [
        {
          "output_type": "stream",
          "name": "stdout",
          "text": [
            "Shape of the DataFrame: (264, 5)\n",
            "\n",
            "Data Types of each column:\n",
            " Systolic BP     float64\n",
            "Diastolic BP    float64\n",
            "Sex_Men            bool\n",
            "Sex_Women          bool\n",
            "Pranayama         int64\n",
            "dtype: object\n",
            "\n",
            "Descriptive Statistics for Numerical Features:\n",
            "        Systolic BP  Diastolic BP   Pranayama\n",
            "count   264.000000    264.000000  264.000000\n",
            "mean    125.422383     77.453524    0.242424\n",
            "std       7.168831      3.784959    0.429364\n",
            "min      99.000000     60.333333    0.000000\n",
            "25%     123.558709     77.151692    0.000000\n",
            "50%     124.671023     77.688472    0.000000\n",
            "75%     125.915705     78.334226    0.000000\n",
            "max     180.000000     97.000000    1.000000\n",
            "\n",
            "Value Counts for Categorical Features:\n",
            "\n",
            "Column: Sex_Men\n",
            "Sex_Men\n",
            "False    148\n",
            "True     116\n",
            "Name: count, dtype: int64\n",
            "\n",
            "Column: Sex_Women\n",
            "Sex_Women\n",
            "True     147\n",
            "False    117\n",
            "Name: count, dtype: int64\n"
          ]
        }
      ]
    },
    {
      "source": [
        "## Data visualization\n",
        "\n",
        "### Subtask:\n",
        "Visualize the distribution of data using histograms and bar charts.\n"
      ],
      "cell_type": "markdown",
      "metadata": {
        "id": "lc3JI0eQxU8N"
      }
    },
    {
      "source": [
        "**Reasoning**:\n",
        "Visualize the distribution of numerical and categorical features using histograms and bar charts, respectively.  Analyze the generated visualizations for potential outliers, skewed distributions, or patterns.\n",
        "\n"
      ],
      "cell_type": "markdown",
      "metadata": {
        "id": "ydxvWMQyxVwZ"
      }
    },
    {
      "source": [
        "import matplotlib.pyplot as plt\n",
        "\n",
        "# Histograms for numerical features\n",
        "plt.figure(figsize=(15, 5))\n",
        "\n",
        "plt.subplot(1, 3, 1)\n",
        "plt.hist(df['Systolic BP'], bins=15, color='skyblue', edgecolor='black')\n",
        "plt.title('Distribution of Systolic BP')\n",
        "plt.xlabel('Systolic BP')\n",
        "plt.ylabel('Frequency')\n",
        "\n",
        "plt.subplot(1, 3, 2)\n",
        "plt.hist(df['Diastolic BP'], bins=15, color='salmon', edgecolor='black')\n",
        "plt.title('Distribution of Diastolic BP')\n",
        "plt.xlabel('Diastolic BP')\n",
        "plt.ylabel('Frequency')\n",
        "\n",
        "plt.subplot(1, 3, 3)\n",
        "plt.hist(df['Pranayama'], bins=10, color='lightgreen', edgecolor='black')\n",
        "plt.title('Distribution of Pranayama')\n",
        "plt.xlabel('Pranayama')\n",
        "plt.ylabel('Frequency')\n",
        "\n",
        "plt.tight_layout()\n",
        "plt.show()\n",
        "\n",
        "\n",
        "# Bar charts for categorical features\n",
        "plt.figure(figsize=(10, 5))\n",
        "\n",
        "plt.subplot(1, 2, 1)\n",
        "df['Sex_Men'].value_counts().plot(kind='bar', color=['skyblue', 'lightcoral'])\n",
        "plt.title('Distribution of Sex_Men')\n",
        "plt.xlabel('Sex_Men')\n",
        "plt.ylabel('Count')\n",
        "\n",
        "plt.subplot(1, 2, 2)\n",
        "df['Sex_Women'].value_counts().plot(kind='bar', color=['lightcoral', 'skyblue'])\n",
        "plt.title('Distribution of Sex_Women')\n",
        "plt.xlabel('Sex_Women')\n",
        "plt.ylabel('Count')\n",
        "\n",
        "plt.tight_layout()\n",
        "plt.show()"
      ],
      "cell_type": "code",
      "metadata": {
        "colab": {
          "base_uri": "https://localhost:8080/",
          "height": 873
        },
        "id": "gzN5s3vrxWAE",
        "outputId": "d4584cbd-ac9b-4211-923a-a6c47ae00fae"
      },
      "execution_count": null,
      "outputs": [
        {
          "output_type": "display_data",
          "data": {
            "text/plain": [
              "<Figure size 1500x500 with 3 Axes>"
            ],
            "image/png": "[encoded data removed]"
          },
          "metadata": {}
        },
        {
          "output_type": "display_data",
          "data": {
            "text/plain": [
              "<Figure size 1000x500 with 2 Axes>"
            ],
            "image/png": "[encoded data removed]"
          },
          "metadata": {}
        }
      ]
    },
    {
      "source": [
        "## Data analysis\n",
        "\n",
        "### Subtask:\n",
        "Calculate descriptive statistics and correlations for the numerical features in the dataframe.\n"
      ],
      "cell_type": "markdown",
      "metadata": {
        "id": "KSOQKdayxZnJ"
      }
    },
    {
      "source": [
        "**Reasoning**:\n",
        "Calculate descriptive statistics and correlations for the numerical features, and visualize the correlation matrix using a heatmap.\n",
        "\n"
      ],
      "cell_type": "markdown",
      "metadata": {
        "id": "Y88fju4WxaIN"
      }
    },
    {
      "source": [
        "import matplotlib.pyplot as plt\n",
        "import seaborn as sns\n",
        "\n",
        "# Calculate descriptive statistics\n",
        "numerical_features = ['Systolic BP', 'Diastolic BP', 'Pranayama']\n",
        "descriptive_stats = df[numerical_features].describe()\n",
        "print(\"Descriptive Statistics:\\n\", descriptive_stats)\n",
        "\n",
        "# Calculate the correlation matrix\n",
        "correlation_matrix = df[numerical_features].corr()\n",
        "print(\"\\nCorrelation Matrix:\\n\", correlation_matrix)\n",
        "\n",
        "# Visualize the correlation matrix using a heatmap\n",
        "plt.figure(figsize=(8, 6))\n",
        "sns.heatmap(correlation_matrix, annot=True, cmap='coolwarm', fmt=\".2f\")\n",
        "plt.title('Correlation Matrix of Numerical Features')\n",
        "plt.show()"
      ],
      "cell_type": "code",
      "metadata": {
        "colab": {
          "base_uri": "https://localhost:8080/",
          "height": 823
        },
        "id": "3cDTwMJpxaX5",
        "outputId": "0ad2e8df-cd93-4140-80e4-77a45ad54126"
      },
      "execution_count": null,
      "outputs": [
        {
          "output_type": "stream",
          "name": "stdout",
          "text": [
            "Descriptive Statistics:\n",
            "        Systolic BP  Diastolic BP   Pranayama\n",
            "count   264.000000    264.000000  264.000000\n",
            "mean    125.422383     77.453524    0.242424\n",
            "std       7.168831      3.784959    0.429364\n",
            "min      99.000000     60.333333    0.000000\n",
            "25%     123.558709     77.151692    0.000000\n",
            "50%     124.671023     77.688472    0.000000\n",
            "75%     125.915705     78.334226    0.000000\n",
            "max     180.000000     97.000000    1.000000\n",
            "\n",
            "Correlation Matrix:\n",
            "               Systolic BP  Diastolic BP  Pranayama\n",
            "Systolic BP      1.000000      0.508278   0.202960\n",
            "Diastolic BP     0.508278      1.000000  -0.137322\n",
            "Pranayama        0.202960     -0.137322   1.000000\n"
          ]
        },
        {
          "output_type": "display_data",
          "data": {
            "text/plain": [
              "<Figure size 800x600 with 2 Axes>"
            ],
            "image/png": "[encoded data removed]"
          },
          "metadata": {}
        }
      ]
    },
    {
      "source": [
        "## Summary:\n",
        "\n",
        "\n",
        "### Data Analysis Key Findings\n",
        "* The dataset contains 264 entries and 5 columns: 'Systolic BP', 'Diastolic BP', 'Sex\\_Men', 'Sex\\_Women', and 'Pranayama'.\n",
        "* 'Systolic BP' and 'Diastolic BP' show a moderate positive correlation (0.51), indicating that higher systolic pressure tends to be associated with higher diastolic pressure.\n",
        "* 'Systolic BP' has a weak positive correlation with 'Pranayama' (0.20).\n",
        "* 'Diastolic BP' has a weak negative correlation with 'Pranayama' (-0.14).\n",
        "* The mean systolic blood pressure is approximately 125.42, and the mean diastolic blood pressure is approximately 77.45.\n",
        "* The gender representation in the dataset appears balanced.\n",
        "\n"
      ],
      "cell_type": "markdown",
      "metadata": {
        "id": "bdPqArowxeYx"
      }
    }
  ]
}